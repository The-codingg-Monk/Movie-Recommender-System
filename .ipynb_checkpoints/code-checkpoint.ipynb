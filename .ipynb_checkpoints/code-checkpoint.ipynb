{
 "cells": [
  {
   "cell_type": "code",
   "execution_count": null,
   "id": "767f869d",
   "metadata": {},
   "outputs": [],
   "source": [
    "import pandas as pd\n",
    "import numpy as np\n",
    "import json\n",
    "import warnings\n",
    "warnings.filterwarnings('ignore')\n",
    "from unidecode import unidecode\n",
    "from nltk.corpus import stopwords\n",
    "from nltk.tokenize import word_tokenize\n",
    "from nltk.stem import WordNetLemmatizer\n",
    "from sklearn.feature_extraction.text import CountVectorizer,TfidfVectorizer\n",
    "from gensim.models import Word2Vec\n",
    "from string import punctuation\n",
    "from sklearn.metrics.pairwise import cosine_similarity\n"
   ]
  },
  {
   "cell_type": "code",
   "execution_count": null,
   "id": "d1aeceda",
   "metadata": {},
   "outputs": [],
   "source": [
    "credits=pd.read_csv(r\"C:\\Users\\kannu\\OneDrive\\Desktop\\DataScience\\Projects\\Movie_Recommender_System\\datasets\\tmdb_5000_credits.csv\")\n",
    "movies_data=pd.read_csv(r\"C:\\Users\\kannu\\OneDrive\\Desktop\\DataScience\\Projects\\Movie_Recommender_System\\datasets\\tmdb_5000_movies.csv\")"
   ]
  },
  {
   "cell_type": "code",
   "execution_count": null,
   "id": "836d0d4c",
   "metadata": {},
   "outputs": [],
   "source": [
    "credits.head()"
   ]
  },
  {
   "cell_type": "code",
   "execution_count": null,
   "id": "d4def06d",
   "metadata": {},
   "outputs": [],
   "source": [
    "movies_data.head()"
   ]
  },
  {
   "cell_type": "markdown",
   "id": "42d17096",
   "metadata": {},
   "source": [
    "### Merging both"
   ]
  },
  {
   "cell_type": "code",
   "execution_count": null,
   "id": "e82093cc",
   "metadata": {},
   "outputs": [],
   "source": [
    "combined=movies_data.merge(credits,on='title')"
   ]
  },
  {
   "cell_type": "code",
   "execution_count": null,
   "id": "961c5255",
   "metadata": {},
   "outputs": [],
   "source": [
    "movies_data.shape"
   ]
  },
  {
   "cell_type": "code",
   "execution_count": null,
   "id": "0a498b88",
   "metadata": {},
   "outputs": [],
   "source": [
    "credits.shape"
   ]
  },
  {
   "cell_type": "code",
   "execution_count": null,
   "id": "01aeded9",
   "metadata": {},
   "outputs": [],
   "source": [
    "combined.shape"
   ]
  },
  {
   "cell_type": "markdown",
   "id": "19fc84df",
   "metadata": {},
   "source": [
    "### Selecting only required features"
   ]
  },
  {
   "cell_type": "code",
   "execution_count": null,
   "id": "bf82aa0c",
   "metadata": {},
   "outputs": [],
   "source": [
    "combined.info()"
   ]
  },
  {
   "cell_type": "code",
   "execution_count": null,
   "id": "719f2515",
   "metadata": {},
   "outputs": [],
   "source": [
    "movies=combined[['id','title','overview','genres','keywords','cast','crew']]"
   ]
  },
  {
   "cell_type": "code",
   "execution_count": null,
   "id": "2fd4b4f7",
   "metadata": {},
   "outputs": [],
   "source": [
    "movies.head()"
   ]
  },
  {
   "cell_type": "code",
   "execution_count": null,
   "id": "f4647b18",
   "metadata": {},
   "outputs": [],
   "source": [
    "movies.isna().sum()"
   ]
  },
  {
   "cell_type": "code",
   "execution_count": null,
   "id": "c798f51c",
   "metadata": {},
   "outputs": [],
   "source": [
    "movies.dropna(inplace=True)"
   ]
  },
  {
   "cell_type": "code",
   "execution_count": null,
   "id": "13450762",
   "metadata": {},
   "outputs": [],
   "source": [
    "#from genre we need only name\n",
    "#from keywords also we need only name\n",
    "#from cast we will pick top 3 character actual name\n",
    "#from crew we will pick director\n"
   ]
  },
  {
   "cell_type": "code",
   "execution_count": null,
   "id": "58e18584",
   "metadata": {},
   "outputs": [],
   "source": [
    "def name_extracter(data):\n",
    "    list_dictionary=json.loads(data)\n",
    "    \n",
    "    \n",
    "    name_list=[]\n",
    "    for dictionary in list_dictionary:\n",
    "        name_list.append(dictionary['name'].replace(\" \",\"\"))\n",
    "    \n",
    "    return \" \".join(name_list)\n",
    "\n",
    "movies['keywords']=movies['keywords'].apply(name_extracter)\n"
   ]
  },
  {
   "cell_type": "code",
   "execution_count": null,
   "id": "36e91508",
   "metadata": {},
   "outputs": [],
   "source": [
    "movies['genres']=movies['genres'].apply(name_extracter)"
   ]
  },
  {
   "cell_type": "code",
   "execution_count": null,
   "id": "25c15fee",
   "metadata": {},
   "outputs": [],
   "source": [
    "def top_3_actors(data):\n",
    "    List_dict=json.loads(data)\n",
    "    count=0\n",
    "    name=[]\n",
    "    for dictionary in List_dict:\n",
    "        if count < 3:\n",
    "            name.append(dictionary['name'].replace(\" \",\"\"))\n",
    "            count +=1\n",
    "        else:\n",
    "            break\n",
    "    return \" \".join(name)\n",
    "            "
   ]
  },
  {
   "cell_type": "code",
   "execution_count": null,
   "id": "170323a1",
   "metadata": {},
   "outputs": [],
   "source": [
    "movies['cast']=movies['cast'].apply(top_3_actors)"
   ]
  },
  {
   "cell_type": "code",
   "execution_count": null,
   "id": "cdf98a7f",
   "metadata": {},
   "outputs": [],
   "source": [
    "def director(data):\n",
    "    list_dict=json.loads(data)\n",
    "    \n",
    "    for dic in list_dict:\n",
    "        if dic['job'].lower().__contains__(\"director\"):\n",
    "            return dic['name'].replace(\" \",\"\")\n",
    "        \n",
    "            \n"
   ]
  },
  {
   "cell_type": "code",
   "execution_count": null,
   "id": "1c8383df",
   "metadata": {},
   "outputs": [],
   "source": [
    "movies['crew']=movies['crew'].apply(director)"
   ]
  },
  {
   "cell_type": "code",
   "execution_count": null,
   "id": "792bae0d",
   "metadata": {},
   "outputs": [],
   "source": [
    "movies"
   ]
  },
  {
   "cell_type": "code",
   "execution_count": null,
   "id": "4aae9f0c",
   "metadata": {},
   "outputs": [],
   "source": [
    "movies[\"tags\"]=movies[\"overview\"]+\" \"+movies[\"genres\"]+\" \"+movies[\"keywords\"]+\" \"+movies[\"cast\"]+\" \"+movies[\"crew\"]"
   ]
  },
  {
   "cell_type": "code",
   "execution_count": null,
   "id": "645675cf",
   "metadata": {},
   "outputs": [],
   "source": [
    "stopwords_list=stopwords.words('english')"
   ]
  },
  {
   "cell_type": "code",
   "execution_count": null,
   "id": "ef269086",
   "metadata": {},
   "outputs": [],
   "source": [
    "#Accented character handing\n",
    "\n",
    "def accented(data):\n",
    "    return unidecode(str(data))\n",
    "\n",
    "def white_space(data):\n",
    "    import re\n",
    "    return re.sub(r\"\\s+\",\" \",data)\n",
    "\n",
    "movies_accented=movies['tags'].apply(accented)\n",
    "movies_white_space=movies_accented.apply(white_space)"
   ]
  },
  {
   "cell_type": "code",
   "execution_count": null,
   "id": "6332cc8a",
   "metadata": {},
   "outputs": [],
   "source": [
    "#cleaning\n",
    "def clean(data):\n",
    "    res=[word.lower() for word in word_tokenize(data) if (word not in punctuation) and (word.lower() not in stopwords_list)]\n",
    "    return \" \".join(res)\n",
    "\n",
    "movies_cleaned=movies_white_space.apply(clean)"
   ]
  },
  {
   "cell_type": "code",
   "execution_count": null,
   "id": "0aeb6db5",
   "metadata": {},
   "outputs": [],
   "source": [
    "#Performing Lemmatization\n",
    "\n",
    "def stem(data):\n",
    "    words=[]\n",
    "    lemma=WordNetLemmatizer()\n",
    "    for word in word_tokenize(data):\n",
    "        words.append(lemma.lemmatize(word,\"v\"))\n",
    "    return \" \".join(words)\n",
    "\n",
    "movies_stem=movies_cleaned.apply(stem)"
   ]
  },
  {
   "cell_type": "code",
   "execution_count": null,
   "id": "ae89f8b7",
   "metadata": {},
   "outputs": [],
   "source": [
    "movies_stem"
   ]
  },
  {
   "cell_type": "code",
   "execution_count": null,
   "id": "c8d6b771",
   "metadata": {},
   "outputs": [],
   "source": [
    "#Using Count Vectorizer for word embedding"
   ]
  },
  {
   "cell_type": "code",
   "execution_count": null,
   "id": "2146eb41",
   "metadata": {},
   "outputs": [],
   "source": [
    "cv=CountVectorizer(max_features=2000,max_df=.95)\n",
    "cv_data=cv.fit_transform(movies_stem).A"
   ]
  },
  {
   "cell_type": "code",
   "execution_count": null,
   "id": "2141eefb",
   "metadata": {},
   "outputs": [],
   "source": [
    "cv_data.shape"
   ]
  },
  {
   "cell_type": "code",
   "execution_count": null,
   "id": "d704a9e6",
   "metadata": {},
   "outputs": [],
   "source": [
    "#Using TFIDF for word embedding\n",
    "tfidf=TfidfVectorizer(max_features=2000,max_df=.95)\n",
    "tfidf_data=tfidf.fit_transform(movies_stem).A"
   ]
  },
  {
   "cell_type": "code",
   "execution_count": null,
   "id": "21a318a2",
   "metadata": {},
   "outputs": [],
   "source": [
    "tfidf_data"
   ]
  },
  {
   "cell_type": "code",
   "execution_count": null,
   "id": "fc497a39",
   "metadata": {},
   "outputs": [],
   "source": [
    "# Using Cosine similarity to find top 5 similar movies"
   ]
  },
  {
   "cell_type": "code",
   "execution_count": null,
   "id": "60e2219c",
   "metadata": {},
   "outputs": [],
   "source": [
    "cv_similar=cosine_similarity(cv_data)"
   ]
  },
  {
   "cell_type": "code",
   "execution_count": null,
   "id": "d12d392b",
   "metadata": {},
   "outputs": [],
   "source": [
    "#cousine similarity with tfidf\n",
    "\n",
    "tfidf_similar=cosine_similarity(tfidf_data)"
   ]
  },
  {
   "cell_type": "code",
   "execution_count": null,
   "id": "1eb5277c",
   "metadata": {},
   "outputs": [],
   "source": [
    "cv_similar.shape"
   ]
  },
  {
   "cell_type": "code",
   "execution_count": null,
   "id": "6c11adf5",
   "metadata": {},
   "outputs": [],
   "source": [
    "#means each vectors (movies) similarity with each one\n",
    "#At index 0, 0 index movie similary with other movies in each col\n",
    "# suppose we have to find 0 index movies 5 similar movies, for that we will short and will extract top 5 having most values."
   ]
  },
  {
   "cell_type": "code",
   "execution_count": null,
   "id": "7eb8f110",
   "metadata": {},
   "outputs": [],
   "source": [
    "#Recoomender using CountVectorizer\n",
    "\n",
    "def recommender_cv(movie_title):\n",
    "    index=movies[movies[\"title\"]==movie_title].index[0]\n",
    "    similarity=list(enumerate(cv_similar[index]))\n",
    "    similar_5=sorted(similarity,reverse=True,key=lambda x:x[1])[1:6]\n",
    "    for data in similar_5:\n",
    "        print(movies['title'][data[0]])\n",
    "          \n",
    "\n",
    "\n",
    "    "
   ]
  },
  {
   "cell_type": "code",
   "execution_count": null,
   "id": "a43ad602",
   "metadata": {},
   "outputs": [],
   "source": [
    "#Recommender using tfidf\n",
    "def recommender_tfidf(movie_title):\n",
    "    index=movies[movies[\"title\"]==movie_title].index[0]\n",
    "    similarity=list(enumerate(tfidf_similar[index]))\n",
    "    similar_5=sorted(similarity,reverse=True,key=lambda x:x[1])[1:6]\n",
    "    for data in similar_5:\n",
    "        print(movies['title'][data[0]])\n",
    "          "
   ]
  },
  {
   "cell_type": "code",
   "execution_count": null,
   "id": "f737640f",
   "metadata": {},
   "outputs": [],
   "source": [
    "recommender_cv('Batman')"
   ]
  },
  {
   "cell_type": "code",
   "execution_count": null,
   "id": "7ec08bae",
   "metadata": {},
   "outputs": [],
   "source": [
    "recommender_tfidf('Batman')"
   ]
  },
  {
   "cell_type": "code",
   "execution_count": null,
   "id": "1effe620",
   "metadata": {},
   "outputs": [],
   "source": [
    "#"
   ]
  }
 ],
 "metadata": {
  "kernelspec": {
   "display_name": "Python 3 (ipykernel)",
   "language": "python",
   "name": "python3"
  },
  "language_info": {
   "codemirror_mode": {
    "name": "ipython",
    "version": 3
   },
   "file_extension": ".py",
   "mimetype": "text/x-python",
   "name": "python",
   "nbconvert_exporter": "python",
   "pygments_lexer": "ipython3",
   "version": "3.10.4"
  }
 },
 "nbformat": 4,
 "nbformat_minor": 5
}
